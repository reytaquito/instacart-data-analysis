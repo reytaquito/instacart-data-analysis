{
 "cells": [
  {
   "cell_type": "code",
   "execution_count": 4,
   "metadata": {},
   "outputs": [],
   "source": [
    "import pandas as pd \n",
    "import numpy as np \n",
    "from matplotlib import pyplot as plt"
   ]
  },
  {
   "cell_type": "code",
   "execution_count": 5,
   "metadata": {},
   "outputs": [],
   "source": [
    "#read all datframes \n",
    "df_orders = pd.read_csv('/Users/rodrigomateos/Desktop/Python Projects/instacart-data-analysis/dataframes/aisles.csv', sep=';')\n",
    "df_products = pd.read_csv('/Users/rodrigomateos/Desktop/Python Projects/instacart-data-analysis/dataframes/products.csv', sep=';')\n",
    "df_aisles = pd.read_csv('/Users/rodrigomateos/Desktop/Python Projects/instacart-data-analysis/dataframes/aisles.csv', sep=';')\n",
    "df_departments = pd.read_csv('/Users/rodrigomateos/Desktop/Python Projects/instacart-data-analysis/dataframes/departments.csv', sep=';')\n",
    "df_order_products = pd.read_csv('/Users/rodrigomateos/Desktop/Python Projects/instacart-data-analysis/dataframes//order_products.csv', sep=';')"
   ]
  },
  {
   "cell_type": "markdown",
   "metadata": {},
   "source": [
    "Clear Data"
   ]
  },
  {
   "cell_type": "code",
   "execution_count": 6,
   "metadata": {},
   "outputs": [
    {
     "name": "stdout",
     "output_type": "stream",
     "text": [
      "0\n",
      "0\n",
      "0\n",
      "0\n",
      "0\n"
     ]
    }
   ],
   "source": [
    "#drop duplicates \n",
    "print(df_orders.duplicated().sum())\n",
    "print(df_products.duplicated().sum())\n",
    "print(df_aisles.duplicated().sum())\n",
    "print(df_departments.duplicated().sum())\n",
    "print(df_order_products.duplicated().sum())"
   ]
  },
  {
   "cell_type": "code",
   "execution_count": 11,
   "metadata": {},
   "outputs": [
    {
     "name": "stdout",
     "output_type": "stream",
     "text": [
      "<class 'pandas.core.frame.DataFrame'>\n",
      "RangeIndex: 4545007 entries, 0 to 4545006\n",
      "Data columns (total 4 columns):\n",
      " #   Column             Dtype\n",
      "---  ------             -----\n",
      " 0   order_id           int64\n",
      " 1   product_id         int64\n",
      " 2   add_to_cart_order  int64\n",
      " 3   reordered          int64\n",
      "dtypes: int64(4)\n",
      "memory usage: 138.7 MB\n",
      "None\n"
     ]
    }
   ],
   "source": [
    "#null values \n",
    "df_products['product_name'].isna().sum()\n",
    "df_products['product_name'] = df_products['product_name'].fillna('unknown')\n",
    "\n",
    "df_order_products['add_to_cart_order'] = df_order_products['add_to_cart_order'].fillna(999) #fill with 999\n",
    "df_order_products['add_to_cart_order'] = df_order_products['add_to_cart_order'].astype(int) #float to int\n",
    "print(df_order_products.info()) #int\n",
    "\n"
   ]
  }
 ],
 "metadata": {
  "kernelspec": {
   "display_name": "base",
   "language": "python",
   "name": "python3"
  },
  "language_info": {
   "codemirror_mode": {
    "name": "ipython",
    "version": 3
   },
   "file_extension": ".py",
   "mimetype": "text/x-python",
   "name": "python",
   "nbconvert_exporter": "python",
   "pygments_lexer": "ipython3",
   "version": "3.12.7"
  }
 },
 "nbformat": 4,
 "nbformat_minor": 2
}
